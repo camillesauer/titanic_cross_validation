{
 "cells": [
  {
   "cell_type": "code",
   "execution_count": 133,
   "metadata": {
    "collapsed": false
   },
   "outputs": [],
   "source": [
    "# On importe les librairies dont on aura besoin pour ce tp\n",
    "import numpy as np\n",
    "import seaborn as sns\n",
    "import pandas as pd\n",
    "import matplotlib.pyplot as plt\n",
    "from math import radians, sin, cos, acos\n",
    "from math import log\n",
    "pd.set_option('display.float_format', lambda x: '%.3f' % x)\n",
    "# On charge le dataset\n",
    "df = pd.read_csv('data/train.csv', parse_dates= [2,3])\n"
   ]
  },
  {
   "cell_type": "code",
   "execution_count": 116,
   "metadata": {
    "collapsed": false
   },
   "outputs": [
    {
     "data": {
      "text/html": [
       "<div>\n",
       "<style scoped>\n",
       "    .dataframe tbody tr th:only-of-type {\n",
       "        vertical-align: middle;\n",
       "    }\n",
       "\n",
       "    .dataframe tbody tr th {\n",
       "        vertical-align: top;\n",
       "    }\n",
       "\n",
       "    .dataframe thead th {\n",
       "        text-align: right;\n",
       "    }\n",
       "</style>\n",
       "<table border=\"1\" class=\"dataframe\">\n",
       "  <thead>\n",
       "    <tr style=\"text-align: right;\">\n",
       "      <th></th>\n",
       "      <th>vendor_id</th>\n",
       "      <th>passenger_count</th>\n",
       "      <th>pickup_longitude</th>\n",
       "      <th>pickup_latitude</th>\n",
       "      <th>dropoff_longitude</th>\n",
       "      <th>dropoff_latitude</th>\n",
       "      <th>trip_duration</th>\n",
       "    </tr>\n",
       "  </thead>\n",
       "  <tbody>\n",
       "    <tr>\n",
       "      <th>count</th>\n",
       "      <td>1458644.000</td>\n",
       "      <td>1458644.000</td>\n",
       "      <td>1458644.000</td>\n",
       "      <td>1458644.000</td>\n",
       "      <td>1458644.000</td>\n",
       "      <td>1458644.000</td>\n",
       "      <td>1458644.000</td>\n",
       "    </tr>\n",
       "    <tr>\n",
       "      <th>mean</th>\n",
       "      <td>2.000</td>\n",
       "      <td>2.000</td>\n",
       "      <td>-74.000</td>\n",
       "      <td>41.000</td>\n",
       "      <td>-74.000</td>\n",
       "      <td>41.000</td>\n",
       "      <td>959.000</td>\n",
       "    </tr>\n",
       "    <tr>\n",
       "      <th>std</th>\n",
       "      <td>0.000</td>\n",
       "      <td>1.000</td>\n",
       "      <td>0.000</td>\n",
       "      <td>0.000</td>\n",
       "      <td>0.000</td>\n",
       "      <td>0.000</td>\n",
       "      <td>5237.000</td>\n",
       "    </tr>\n",
       "    <tr>\n",
       "      <th>min</th>\n",
       "      <td>1.000</td>\n",
       "      <td>0.000</td>\n",
       "      <td>-122.000</td>\n",
       "      <td>34.000</td>\n",
       "      <td>-122.000</td>\n",
       "      <td>32.000</td>\n",
       "      <td>1.000</td>\n",
       "    </tr>\n",
       "    <tr>\n",
       "      <th>25%</th>\n",
       "      <td>1.000</td>\n",
       "      <td>1.000</td>\n",
       "      <td>-74.000</td>\n",
       "      <td>41.000</td>\n",
       "      <td>-74.000</td>\n",
       "      <td>41.000</td>\n",
       "      <td>397.000</td>\n",
       "    </tr>\n",
       "    <tr>\n",
       "      <th>50%</th>\n",
       "      <td>2.000</td>\n",
       "      <td>1.000</td>\n",
       "      <td>-74.000</td>\n",
       "      <td>41.000</td>\n",
       "      <td>-74.000</td>\n",
       "      <td>41.000</td>\n",
       "      <td>662.000</td>\n",
       "    </tr>\n",
       "    <tr>\n",
       "      <th>75%</th>\n",
       "      <td>2.000</td>\n",
       "      <td>2.000</td>\n",
       "      <td>-74.000</td>\n",
       "      <td>41.000</td>\n",
       "      <td>-74.000</td>\n",
       "      <td>41.000</td>\n",
       "      <td>1075.000</td>\n",
       "    </tr>\n",
       "    <tr>\n",
       "      <th>max</th>\n",
       "      <td>2.000</td>\n",
       "      <td>9.000</td>\n",
       "      <td>-61.000</td>\n",
       "      <td>52.000</td>\n",
       "      <td>-61.000</td>\n",
       "      <td>44.000</td>\n",
       "      <td>3526282.000</td>\n",
       "    </tr>\n",
       "  </tbody>\n",
       "</table>\n",
       "</div>"
      ],
      "text/plain": [
       "        vendor_id  passenger_count  pickup_longitude  pickup_latitude  \\\n",
       "count 1458644.000      1458644.000       1458644.000      1458644.000   \n",
       "mean        2.000            2.000           -74.000           41.000   \n",
       "std         0.000            1.000             0.000            0.000   \n",
       "min         1.000            0.000          -122.000           34.000   \n",
       "25%         1.000            1.000           -74.000           41.000   \n",
       "50%         2.000            1.000           -74.000           41.000   \n",
       "75%         2.000            2.000           -74.000           41.000   \n",
       "max         2.000            9.000           -61.000           52.000   \n",
       "\n",
       "       dropoff_longitude  dropoff_latitude  trip_duration  \n",
       "count        1458644.000       1458644.000    1458644.000  \n",
       "mean             -74.000            41.000        959.000  \n",
       "std                0.000             0.000       5237.000  \n",
       "min             -122.000            32.000          1.000  \n",
       "25%              -74.000            41.000        397.000  \n",
       "50%              -74.000            41.000        662.000  \n",
       "75%              -74.000            41.000       1075.000  \n",
       "max              -61.000            44.000    3526282.000  "
      ]
     },
     "execution_count": 116,
     "metadata": {},
     "output_type": "execute_result"
    }
   ],
   "source": [
    "round(df.describe())"
   ]
  },
  {
   "cell_type": "code",
   "execution_count": 117,
   "metadata": {
    "collapsed": false
   },
   "outputs": [
    {
     "data": {
      "text/plain": [
       "id                            object\n",
       "vendor_id                      int64\n",
       "pickup_datetime       datetime64[ns]\n",
       "dropoff_datetime      datetime64[ns]\n",
       "passenger_count                int64\n",
       "pickup_longitude             float64\n",
       "pickup_latitude              float64\n",
       "dropoff_longitude            float64\n",
       "dropoff_latitude             float64\n",
       "store_and_fwd_flag            object\n",
       "trip_duration                  int64\n",
       "dtype: object"
      ]
     },
     "execution_count": 117,
     "metadata": {},
     "output_type": "execute_result"
    }
   ],
   "source": [
    "df.dtypes"
   ]
  },
  {
   "cell_type": "code",
   "execution_count": 118,
   "metadata": {
    "collapsed": false
   },
   "outputs": [
    {
     "name": "stdout",
     "output_type": "stream",
     "text": [
      "Nombre de lignes dupliquées\n",
      "False    1458644\n",
      "dtype: int64\n",
      "\n",
      "Nombre de valeurs manquantes\n",
      "id                    0\n",
      "vendor_id             0\n",
      "pickup_datetime       0\n",
      "dropoff_datetime      0\n",
      "passenger_count       0\n",
      "pickup_longitude      0\n",
      "pickup_latitude       0\n",
      "dropoff_longitude     0\n",
      "dropoff_latitude      0\n",
      "store_and_fwd_flag    0\n",
      "trip_duration         0\n",
      "dtype: int64\n"
     ]
    }
   ],
   "source": [
    "print(\"Nombre de lignes dupliquées\")\n",
    "print(df.duplicated().value_counts())\n",
    "print(\"\\n\" + \"Nombre de valeurs manquantes\")\n",
    "print(df.isnull().sum())\n",
    "\n"
   ]
  },
  {
   "cell_type": "code",
   "execution_count": 128,
   "metadata": {
    "collapsed": false
   },
   "outputs": [],
   "source": [
    "df = df[(df[\"trip_duration\"] < 10000) & (df[\"trip_duration\"] > 60)]\n",
    "df = df[(df[\"distance\"] > 0.1)  & (df[\"distance\"] < 15)]"
   ]
  },
  {
   "cell_type": "markdown",
   "metadata": {},
   "source": [
    "# vitesse moyenne de chaque trajet (en km/h) "
   ]
  },
  {
   "cell_type": "code",
   "execution_count": 120,
   "metadata": {
    "collapsed": false
   },
   "outputs": [],
   "source": [
    "def calc_distance(row):\n",
    "    slat = radians(row['pickup_latitude'])\n",
    "    slon = radians(row['pickup_longitude']) \n",
    "    elat = radians(row['dropoff_latitude'])\n",
    "    elon = radians(row['dropoff_longitude'])\n",
    "    value = sin(slat) * sin(elat) + cos(slat) * cos(elat)*cos(slon - elon)\n",
    "    if value > 1 or value < -1:\n",
    "        return np.nan\n",
    "    else:\n",
    "        dist = 6371.01 * acos(value)\n",
    "        return dist\n",
    "    \n",
    "def calc_speed(row):\n",
    "    return row.distance/(row.trip_duration/3600)\n",
    "\n",
    "df[\"distance\"] = df.apply(calc_distance, axis = 1)\n",
    "df[\"speed_mean\"] = df.apply(calc_speed, axis = 1)"
   ]
  },
  {
   "cell_type": "markdown",
   "metadata": {},
   "source": [
    "# nombre de trajets effectués en fonction du jour de la semaine "
   ]
  },
  {
   "cell_type": "code",
   "execution_count": 121,
   "metadata": {
    "collapsed": false
   },
   "outputs": [
    {
     "data": {
      "text/plain": [
       "pickup_datetime\n",
       "Friday       223533\n",
       "Monday       187418\n",
       "Saturday     220868\n",
       "Sunday       195366\n",
       "Thursday     218574\n",
       "Tuesday      202749\n",
       "Wednesday    210136\n",
       "Name: id, dtype: int64"
      ]
     },
     "execution_count": 121,
     "metadata": {},
     "output_type": "execute_result"
    }
   ],
   "source": [
    "df_count_by_day = df.groupby(df['pickup_datetime'].dt.day_name()).count()['id']\n",
    "df_count_by_day.head(20)"
   ]
  },
  {
   "cell_type": "markdown",
   "metadata": {},
   "source": [
    "# nombre de trajets effectués en fonction de l’horaire de la journée par tranche de 4h. "
   ]
  },
  {
   "cell_type": "code",
   "execution_count": 122,
   "metadata": {
    "collapsed": false
   },
   "outputs": [
    {
     "data": {
      "text/plain": [
       "pickup_datetime\n",
       "0     53248\n",
       "1     38571\n",
       "2     27972\n",
       "3     20895\n",
       "4     15792\n",
       "5     15002\n",
       "6     33248\n",
       "7     55600\n",
       "8     67053\n",
       "9     67663\n",
       "10    65437\n",
       "11    68476\n",
       "12    71873\n",
       "13    71473\n",
       "14    74292\n",
       "15    71811\n",
       "16    64313\n",
       "17    76483\n",
       "18    90600\n",
       "19    90308\n",
       "20    84072\n",
       "21    84185\n",
       "22    80492\n",
       "23    69785\n",
       "Name: id, dtype: int64"
      ]
     },
     "execution_count": 122,
     "metadata": {},
     "output_type": "execute_result"
    }
   ],
   "source": [
    "df_count_by_hour = df.groupby(df['pickup_datetime'].dt.hour).count()['id']\n",
    "df_count_by_hour\n"
   ]
  },
  {
   "cell_type": "code",
   "execution_count": 123,
   "metadata": {
    "collapsed": false
   },
   "outputs": [
    {
     "name": "stdout",
     "output_type": "stream",
     "text": [
      "-\n"
     ]
    },
    {
     "data": {
      "image/png": "[encoded data removed]",
      "text/plain": [
       "<Figure size 360x360 with 1 Axes>"
      ]
     },
     "metadata": {
      "needs_background": "light"
     },
     "output_type": "display_data"
    }
   ],
   "source": [
    "df_count_by_hour.hist(figsize=(5,5))\n",
    "print(\"-\")\n"
   ]
  },
  {
   "cell_type": "markdown",
   "metadata": {},
   "source": [
    "# nombre de trajets effectués en fonction de l’horaire de la journée par tranche de 4h. "
   ]
  },
  {
   "cell_type": "code",
   "execution_count": 124,
   "metadata": {
    "collapsed": false
   },
   "outputs": [
    {
     "name": "stdout",
     "output_type": "stream",
     "text": [
      "0-4h 140686\n",
      "4-8h 119642\n",
      "8-12h 268629\n",
      "12-16h 289449\n",
      "16-20h 321704\n",
      "20-24h 318534\n"
     ]
    }
   ],
   "source": [
    "total=0\n",
    "res=[]\n",
    "for i in range(1,25):\n",
    "    total += df_count_by_hour[i-1]\n",
    "    if i%4 == 0:\n",
    "        res.append(total)\n",
    "        total = 0\n",
    "\n",
    "for i,tranche in enumerate([\"0-4h\", \"4-8h\", \"8-12h\", \"12-16h\", \"16-20h\", \"20-24h\"]):\n",
    "    print(tranche, res[i])"
   ]
  },
  {
   "cell_type": "markdown",
   "metadata": {},
   "source": [
    "# nombre de km parcourus par jour de la semaine "
   ]
  },
  {
   "cell_type": "code",
   "execution_count": 125,
   "metadata": {
    "collapsed": false
   },
   "outputs": [
    {
     "data": {
      "text/plain": [
       "pickup_datetime\n",
       "Friday      758725.676\n",
       "Monday      668483.172\n",
       "Saturday    736412.300\n",
       "Sunday      726454.401\n",
       "Thursday    747678.813\n",
       "Tuesday     678329.170\n",
       "Wednesday   702919.909\n",
       "Name: distance, dtype: float64"
      ]
     },
     "execution_count": 125,
     "metadata": {},
     "output_type": "execute_result"
    }
   ],
   "source": [
    "df_distance_by_day = df.groupby(df['pickup_datetime'].dt.day_name()).distance.sum()\n",
    "df_distance_by_day"
   ]
  },
  {
   "cell_type": "code",
   "execution_count": 139,
   "metadata": {
    "collapsed": false
   },
   "outputs": [
    {
     "data": {
      "image/png": "[encoded data removed]",
      "text/plain": [
       "<Figure size 360x360 with 1 Axes>"
      ]
     },
     "metadata": {
      "needs_background": "light"
     },
     "output_type": "display_data"
    }
   ],
   "source": [
    "sns.displot(df_distance_by_day, x=df_distance_by_day.values);"
   ]
  },
  {
   "cell_type": "markdown",
   "metadata": {},
   "source": [
    "# De plus, chaque indicateur sera illustré par un graphique. De plus, chaque indicateur sera illustré par un graphique."
   ]
  },
  {
   "cell_type": "code",
   "execution_count": null,
   "metadata": {
    "collapsed": true
   },
   "outputs": [],
   "source": []
  },
  {
   "cell_type": "code",
   "execution_count": null,
   "metadata": {
    "collapsed": true
   },
   "outputs": [],
   "source": []
  }
 ],
 "metadata": {
  "anaconda-cloud": {},
  "kernelspec": {
   "display_name": "Python 3",
   "language": "python",
   "name": "python3"
  },
  "language_info": {
   "codemirror_mode": {
    "name": "ipython",
    "version": 3
   },
   "file_extension": ".py",
   "mimetype": "text/x-python",
   "name": "python",
   "nbconvert_exporter": "python",
   "pygments_lexer": "ipython3",
   "version": "3.8.5"
  }
 },
 "nbformat": 4,
 "nbformat_minor": 1
}
